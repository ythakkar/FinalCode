{
 "cells": [
  {
   "cell_type": "code",
   "execution_count": 184,
   "metadata": {
    "collapsed": true
   },
   "outputs": [],
   "source": [
    "## Import Libraries\n",
    "import json\n",
    "import csv\n",
    "import numpy as np\n",
    "from sklearn.feature_extraction.text import TfidfVectorizer\n",
    "from sklearn.feature_extraction.text import CountVectorizer\n",
    "from sklearn.metrics.pairwise import cosine_similarity\n",
    "import scipy.spatial.distance\n",
    "from copy import deepcopy"
   ]
  },
  {
   "cell_type": "code",
   "execution_count": 185,
   "metadata": {
    "collapsed": false
   },
   "outputs": [],
   "source": [
    "##Import data\n",
    "qa = np.genfromtxt(\"uid_qa.txt\", delimiter = \",\", names = True, dtype = [('int64'), ('int64'), ('int64'), ('U256'), ('U128'),])\n",
    "fe = np.genfromtxt(\"uid_pre_elim.txt\", delimiter = \",\", names = True, dtype = [('int64'), ('int64'), ('int64'), ('U256'), ('U256'),])\n",
    "ftd = np.genfromtxt(\"face_id_descr.txt\", delimiter = \";\", skip_header = 1 , usecols = np.arange(0,2), dtype = [('U16'), ('U2056')])\n",
    "fe.dtype.names = ('uniqueID', 'bn', 'qn', 'pre_que', 'curr_elim')\n",
    "ftd.dtype.names = ('img_id', 'description')"
   ]
  },
  {
   "cell_type": "code",
   "execution_count": 141,
   "metadata": {
    "collapsed": false
   },
   "outputs": [],
   "source": [
    "## Function- to convert sring into list.\n",
    "## First convert strings to list of rows equal to rows in fe by making a function\n",
    "## All image ids are one string in each row. By converting this string into list we will make each image ID an item in the list.\n",
    "\n",
    "def mk_list(str_vector):\n",
    "    des_byid = str_vector\n",
    "    all_x = []\n",
    "    for i in des_byid:\n",
    "        j = i.split()\n",
    "        #if len(j) > 0:\n",
    "        all_x.append(j)\n",
    "\n",
    "    return all_x\n"
   ]
  },
  {
   "cell_type": "code",
   "execution_count": 142,
   "metadata": {
    "collapsed": false
   },
   "outputs": [
    {
     "name": "stdout",
     "output_type": "stream",
     "text": [
      "29\n"
     ]
    }
   ],
   "source": [
    "## convert strings in each row of pre-que to list of itmens.\n",
    "## each row of all_x contains a list of image id(S) before question is asked and action like elimination/selection is done.\n",
    "\n",
    "all_x = mk_list(fe['pre_que'])\n"
   ]
  },
  {
   "cell_type": "code",
   "execution_count": 143,
   "metadata": {
    "collapsed": false
   },
   "outputs": [
    {
     "name": "stdout",
     "output_type": "stream",
     "text": [
      "[10, 43, 114, 115, 117, 118, 130, 131, 134, 135, 136, 137, 138, 139, 140, 234, 358, 408, 537, 607, 636, 674, 923, 928, 929, 931, 932, 949, 1078, 1079, 1196, 1250, 1251, 1258, 1264, 1274, 1364, 1433, 1493, 1494, 1545, 1600, 1753, 1907, 1996, 2045, 2077, 2095, 2103, 2105, 2106, 2167, 2168, 2169, 2201, 2308, 2312, 2413, 2455, 2535, 2536, 2542, 2657, 2681, 2706, 2772, 2773, 2774, 2778, 2779, 2781, 2782, 2783, 2785, 2786, 2787, 2788, 2789, 2790, 2791, 2798, 2873, 2876, 2902, 2942, 2949, 2965, 3079, 3201, 3207, 3258, 3308, 3411, 3416, 3426, 3439, 3440, 3444, 3445, 3446, 3449, 3496, 3506, 3507, 3549, 3600, 3602, 3610, 3612, 3616, 3619, 3621, 3624, 3626, 3628, 3652, 3654, 3655, 3656, 3665, 3682, 3715, 3726, 3727, 3730, 3733, 3735, 3829, 3912, 3954, 3959, 4001, 4002, 4003, 4004, 4005, 4006, 4007, 4008, 4024, 4025, 4302, 4335, 4363, 4415, 4450, 4522, 4523, 4536, 4572, 4621, 4723, 4734, 4736, 4737, 4792, 4793, 4794, 4823, 4824, 4825, 4826, 4827, 4828, 4829, 4830, 4898, 4904, 4916, 4989, 5019, 5040, 5061, 5062, 5065, 5120, 5133, 5354, 5439, 5511, 5526, 5527, 5528, 5529, 5530, 5585, 5676, 5679, 5681, 5688, 5709, 5712, 5713, 5714, 5715, 5717, 5718, 5720, 5723, 5725, 5734, 5754, 5782, 5918, 5977, 5997, 6104, 6106, 6113, 6117, 6320, 6346, 6513, 6575, 6595, 6626, 6627, 6628, 6629, 6633, 6783, 6909, 6939, 6955, 7096, 7144, 7187, 7413, 7472, 7484, 7497, 7662, 7714, 7715, 7777, 7860, 7865, 7871, 7873, 7875, 7880, 7885, 7890, 7891, 7893, 7894, 7895, 7897, 7900, 7902, 7905, 7930, 7999, 8040, 8067, 8108, 8223, 8233, 8234, 8239, 8324, 8400, 8401, 8410, 8493, 8576, 8589, 8756, 8780, 8850, 8852, 8894, 8899, 9005, 9151, 9295, 9528, 9530, 9535, 9601, 9635, 9681, 9696, 9697, 9878, 9879, 9976, 10132, 10140, 10224, 10228, 10231, 10245, 10261, 10354, 10357, 10358, 10359, 10457, 10467, 10479, 10481, 10489, 10506, 10515, 10540, 10600, 10635, 10636, 10637, 10638, 10639, 10643, 10707, 10708, 10728, 10729, 10788, 10812, 10890, 10975, 10976, 10977, 10987, 10993, 10995, 10996, 10998, 11001, 11003, 11025, 11104, 11117, 11195, 11196, 11228, 11231, 11243, 11244, 11245, 11392, 11418, 11430, 11461, 11463, 11509, 11553, 11600, 11661, 11672, 11683, 11688, 11696, 11698, 11708, 11709, 11716, 11720, 11910, 11924, 11936, 11954, 11955, 11965, 11967, 11972, 11975, 11982, 11985, 12104, 12133, 12174, 12203, 12231, 12232, 12240, 12241, 12242, 12243, 12337, 12428, 12432, 12437, 12519, 12525, 12593, 12690, 12730, 12731, 12778, 12779, 12788, 12797, 12798, 12842, 12875, 12878, 13011, 13017, 13037, 13054, 13058, 13059, 13063, 13071, 13072, 13083, 13084, 13093, 13094, 13162, 13189, 13191, 13217, 13221, 13245, 13351, 13402, 13405, 13518, 13558, 13564, 13645, 13680, 13684, 13690, 13692, 13790, 13797, 13799, 13800, 13894, 14009, 14010, 14011, 14012, 14013, 14016, 14143, 14167, 14189, 14190, 14191, 14192, 14193, 14194, 14195, 14197, 14198, 14199, 14200, 14201, 14202, 14204, 14205, 14206, 14207, 14208, 14209, 14210, 14211, 14212, 14251, 14266, 14326, 14364, 14416, 14617, 14670, 14672, 14673, 14677, 14870, 14893, 14916, 14932, 14953, 14954, 14955, 14957, 14959, 15071, 15098, 15124, 15125, 15127, 15128]\n"
     ]
    }
   ],
   "source": [
    "##check blanks\n",
    "## As there are some rows where there is only one image or blank/erronous question. We check that and save those indices.\n",
    "## create blank list\n",
    "#good_index = ['True']*len(all_x)\n",
    "\n",
    "bl =[]\n",
    "\n",
    "for img,q in zip(enumerate(all_x), mk_list(qa['que'])):\n",
    "    if (len(img[1]) <2 or len(q) < 2) and img[0] not in bl:\n",
    "        bl.append(img[0])\n"
   ]
  },
  {
   "cell_type": "code",
   "execution_count": 146,
   "metadata": {
    "collapsed": false
   },
   "outputs": [],
   "source": [
    "## Now for each row in the list above, find description and add it\n",
    "all_i_txt1 = []\n",
    "original_ind = []\n",
    "bl_ind = []\n",
    "\n",
    "for rown in range(len(all_x)):\n",
    "    if rown in bl:\n",
    "        bl_ind.append(rown)\n",
    "    else:\n",
    "        #print(all_x.index)\n",
    "        int_i_txt = []\n",
    "        for img in all_x[rown]:\n",
    "            if img in ftd['img_id']:\n",
    "                d = str(ftd['description'][list(ftd['img_id']).index(img)])\n",
    "                int_i_txt.append(str(d))\n",
    "        original_ind.append(rown)\n",
    "        all_i_txt1.append(int_i_txt)\n",
    "        \n",
    "            \n",
    "            "
   ]
  },
  {
   "cell_type": "code",
   "execution_count": 148,
   "metadata": {
    "collapsed": false
   },
   "outputs": [],
   "source": [
    "## add question and answer to each data point\n",
    "\n",
    "all_i_txt = [row + [qa['que'][rn].strip(), qa['ans'][rn].strip()] for rn, row in zip(original_ind, all_i_txt1)]\n",
    "\n",
    "    \n",
    "    \n",
    "    "
   ]
  },
  {
   "cell_type": "code",
   "execution_count": 151,
   "metadata": {
    "collapsed": false
   },
   "outputs": [],
   "source": [
    "\n",
    "## model\n",
    "cv = CountVectorizer(ngram_range= (2,2))"
   ]
  },
  {
   "cell_type": "code",
   "execution_count": 152,
   "metadata": {
    "collapsed": false
   },
   "outputs": [],
   "source": [
    "## all similarities\n",
    "all_sim = []\n",
    "for l in range(len(all_i_txt)):\n",
    "    H = cv.fit_transform(all_i_txt[l])\n",
    "    sim = cosine_similarity(H)\n",
    "    all_sim.append(sim)"
   ]
  },
  {
   "cell_type": "code",
   "execution_count": 153,
   "metadata": {
    "collapsed": false
   },
   "outputs": [
    {
     "name": "stdout",
     "output_type": "stream",
     "text": [
      "14644\n"
     ]
    }
   ],
   "source": [
    "#similarities[-2] meaning taking only the array for question\n",
    "all_sim_q = []\n",
    "for i in range(len(all_sim)):\n",
    "    all_sim_q.append(all_sim[i][-2][:-2])\n",
    "print(len(all_sim_q))\n"
   ]
  },
  {
   "cell_type": "code",
   "execution_count": 154,
   "metadata": {
    "collapsed": false
   },
   "outputs": [],
   "source": [
    "## Sort all the above similarities with argsort which gives indices\n",
    "sorted_ind = []\n",
    "for si in all_sim_q:\n",
    "    y_top = si.argsort()[::-1]\n",
    "    sorted_ind.append(y_top)\n"
   ]
  },
  {
   "cell_type": "code",
   "execution_count": 155,
   "metadata": {
    "collapsed": false
   },
   "outputs": [
    {
     "name": "stdout",
     "output_type": "stream",
     "text": [
      "14644\n"
     ]
    }
   ],
   "source": [
    "## with above indices, create new sorted array per que, this is done to then find max step difference \n",
    "sorted_sim_all = []\n",
    "for q,w in zip(sorted_ind, all_sim_q):\n",
    "    sorted_sim = []\n",
    "    for e in q:\n",
    "        sorted_sim.append(w[e])\n",
    "    sorted_sim_all.append(sorted_sim)\n"
   ]
  },
  {
   "cell_type": "code",
   "execution_count": 156,
   "metadata": {
    "collapsed": false
   },
   "outputs": [
    {
     "data": {
      "text/plain": [
       "14644"
      ]
     },
     "execution_count": 156,
     "metadata": {},
     "output_type": "execute_result"
    }
   ],
   "source": [
    "##find the difference between two similarity score in each array.\n",
    "sim_dif_all = []\n",
    "\n",
    "for d in range(len(sorted_sim_all)):\n",
    "    sim_dif = [sorted_sim_all[d][f-1] - sorted_sim_all[d][f] for f in range(1, len(sorted_sim_all[d]))]\n",
    "    sim_dif_all.append(sim_dif)\n"
   ]
  },
  {
   "cell_type": "code",
   "execution_count": 157,
   "metadata": {
    "collapsed": false
   },
   "outputs": [],
   "source": [
    "## Find maximum difference in similarity scores per row and also find the indice where to cut-off\n",
    "\n",
    "max_dif = []\n",
    "max_dif_ind =[]\n",
    "for g in range(len(sim_dif_all)):\n",
    "    \n",
    "    maxi= max(sim_dif_all[g])\n",
    "    max_dif.append(maxi)\n",
    "    max_dif_ind.append(sim_dif_all[g].index(maxi))\n"
   ]
  },
  {
   "cell_type": "code",
   "execution_count": 159,
   "metadata": {
    "collapsed": false
   },
   "outputs": [],
   "source": [
    "## Cut off sorted indices till maximum difference index\n",
    "sorted_ind_lim = [indi[0:max_indi+1] for indi,max_indi in zip(sorted_ind, max_dif_ind)]\n"
   ]
  },
  {
   "cell_type": "code",
   "execution_count": 160,
   "metadata": {
    "collapsed": false
   },
   "outputs": [],
   "source": [
    "##clean_all_x- Without outliers\n",
    "all_x_clean = [all_x[i] for i in original_ind]\n"
   ]
  },
  {
   "cell_type": "code",
   "execution_count": 162,
   "metadata": {
    "collapsed": true
   },
   "outputs": [],
   "source": [
    "top_img = zip(all_x_clean, sorted_ind_lim)"
   ]
  },
  {
   "cell_type": "code",
   "execution_count": 163,
   "metadata": {
    "collapsed": false
   },
   "outputs": [],
   "source": [
    "## convert to img_id from document index to match with actual image ids selcted by participant\n",
    "def mk_imgid(arr):\n",
    "    y_pred = []\n",
    "    for i,j in arr:\n",
    "        yp = []\n",
    "        for s in j:\n",
    "            yp.append(i[s])\n",
    "        y_pred.append(yp)\n",
    "    return y_pred"
   ]
  },
  {
   "cell_type": "code",
   "execution_count": 164,
   "metadata": {
    "collapsed": true
   },
   "outputs": [],
   "source": [
    "pred_img_elim = mk_imgid(top_img)"
   ]
  },
  {
   "cell_type": "code",
   "execution_count": 166,
   "metadata": {
    "collapsed": false
   },
   "outputs": [],
   "source": [
    "pred_img_nonelim = [set(i).difference(set(j)) for i, j in zip(all_x_clean, pred_img_elim)]"
   ]
  },
  {
   "cell_type": "code",
   "execution_count": 109,
   "metadata": {
    "collapsed": false
   },
   "outputs": [],
   "source": [
    "## This we need to know actually eliminated images so as to evaluate our model performance\n",
    "all_cheat1 = mk_list(fe['curr_elim'])\n",
    "all_cheat = [all_cheat1[i] for i in original_ind]"
   ]
  },
  {
   "cell_type": "code",
   "execution_count": 171,
   "metadata": {
    "collapsed": false
   },
   "outputs": [],
   "source": [
    "tp = [len(set(a).intersection(set(p))) for a,p in zip(all_cheat, pred_img_elim)]\n",
    "fn = [len(set(a).intersection(set(p))) for a,p in zip(all_cheat, pred_img_nonelim)]"
   ]
  },
  {
   "cell_type": "code",
   "execution_count": 177,
   "metadata": {
    "collapsed": false
   },
   "outputs": [],
   "source": [
    "pre_all= [tp/len(set(p)) if len(set(p)) > 0 else 0 for tp,p in zip(tp, pred_img_elim)]\n",
    "rec_all = [tp/(tp + fn) if tp+fn > 0 else 0 for tp,fn in zip(tp, fn)]\n",
    "\n"
   ]
  },
  {
   "cell_type": "code",
   "execution_count": 179,
   "metadata": {
    "collapsed": false
   },
   "outputs": [],
   "source": [
    "fs_all= [(0.5*0.5 + 1)*pr*re/ (0.5*0.5*pr + re) if pr > 0 or re >0 else 0 for pr, re in zip(pre_all, rec_all)]"
   ]
  },
  {
   "cell_type": "code",
   "execution_count": 181,
   "metadata": {
    "collapsed": false
   },
   "outputs": [],
   "source": [
    "pre_mean = np.mean(np.array(pre_all))\n",
    "rec_mean = np.mean(np.array(rec_all))\n",
    "fs_mean = np.mean(np.array(fs_all))"
   ]
  },
  {
   "cell_type": "code",
   "execution_count": 117,
   "metadata": {
    "collapsed": true
   },
   "outputs": [],
   "source": [
    "op1 = [\"2\", \"CV\", \"ngram_range 2,2\", \"Cosinesimilarity and ranking difference\",str(round(pre_mean,2)), str(round(rec_mean,2)), str(round(fs_mean,2))]"
   ]
  },
  {
   "cell_type": "code",
   "execution_count": 118,
   "metadata": {
    "collapsed": false
   },
   "outputs": [],
   "source": [
    "with open('Results with description.txt', 'a') as f:\n",
    "    f.write('; '.join(op1) + '\\n')"
   ]
  }
 ],
 "metadata": {
  "kernelspec": {
   "display_name": "Python 3",
   "language": "python",
   "name": "python3"
  },
  "language_info": {
   "codemirror_mode": {
    "name": "ipython",
    "version": 3
   },
   "file_extension": ".py",
   "mimetype": "text/x-python",
   "name": "python",
   "nbconvert_exporter": "python",
   "pygments_lexer": "ipython3",
   "version": "3.4.2"
  }
 },
 "nbformat": 4,
 "nbformat_minor": 0
}
