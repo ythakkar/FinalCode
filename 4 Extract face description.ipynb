{
 "cells": [
  {
   "cell_type": "code",
   "execution_count": null,
   "metadata": {
    "collapsed": true
   },
   "outputs": [],
   "source": [
    "##Libraries\n",
    "import json\n",
    "import numpy as np\n"
   ]
  },
  {
   "cell_type": "code",
   "execution_count": null,
   "metadata": {
    "collapsed": true
   },
   "outputs": [],
   "source": [
    "## Import data(new and old set)\n",
    "with open('face-rating-data-1.json') as desc_file1:\n",
    "    descr1 = json.load(desc_file1)\n",
    "\n",
    "with open ('face-rating-data-2.json') as desc_file2:\n",
    "    descr2 = json.load(desc_file2)"
   ]
  },
  {
   "cell_type": "code",
   "execution_count": null,
   "metadata": {
    "collapsed": true
   },
   "outputs": [],
   "source": [
    "descr = descr1+descr2"
   ]
  },
  {
   "cell_type": "code",
   "execution_count": null,
   "metadata": {
    "collapsed": false
   },
   "outputs": [],
   "source": [
    "##distinct faceIDS\n",
    "faceids = []\n",
    "for trial in descr:\n",
    "    faceids.append(trial['faceID'])\n",
    "\n",
    "\n",
    "## distinct face ids\n",
    "dist_faceid = list(set(faceids))\n",
    "\n"
   ]
  },
  {
   "cell_type": "code",
   "execution_count": null,
   "metadata": {
    "collapsed": false
   },
   "outputs": [],
   "source": [
    "## add descriptions for each face id:\n",
    "faceid_des = []\n",
    "for f in dist_faceid:\n",
    "    all_descr = \"\"\n",
    "    for d in descr:\n",
    "        if f == d ['faceID']:\n",
    "            my_descr = \"\"\n",
    "            all_info = d['responses']\n",
    "            details = ['description','physical-description', 'age', 'race', 'ethnicity', 'ethnicity-details']\n",
    "            for area in details:\n",
    "                if area in all_info and area == 'age':\n",
    "                    my_descr += str(all_info[area]) + \" \" + \"years\" + \". \"\n",
    "                elif area in all_info:\n",
    "                    my_descr += str(all_info[area]) + \". \"\n",
    "                else:\n",
    "                    continue\n",
    "            all_descr += my_descr\n",
    "    inter = all_descr\n",
    "    faceid_des.append(inter)\n",
    "    \n",
    "        \n"
   ]
  },
  {
   "cell_type": "code",
   "execution_count": null,
   "metadata": {
    "collapsed": false
   },
   "outputs": [],
   "source": [
    "length = []\n",
    "for l in faceid_des:\n",
    "    length.append(len(l))\n"
   ]
  },
  {
   "cell_type": "code",
   "execution_count": null,
   "metadata": {
    "collapsed": true
   },
   "outputs": [],
   "source": [
    "descr_by_id = [[i, j] for i, j in zip(dist_faceid,faceid_des)]"
   ]
  },
  {
   "cell_type": "code",
   "execution_count": null,
   "metadata": {
    "collapsed": true
   },
   "outputs": [],
   "source": [
    "np.savetxt('face_id_descr.txt', descr_by_id, fmt='%s', delimiter=';', \n",
    "           header = \"faceid, description\", comments = \"\")"
   ]
  }
 ],
 "metadata": {
  "kernelspec": {
   "display_name": "Python 3",
   "language": "python",
   "name": "python3"
  },
  "language_info": {
   "codemirror_mode": {
    "name": "ipython",
    "version": 3
   },
   "file_extension": ".py",
   "mimetype": "text/x-python",
   "name": "python",
   "nbconvert_exporter": "python",
   "pygments_lexer": "ipython3",
   "version": "3.4.2"
  }
 },
 "nbformat": 4,
 "nbformat_minor": 0
}
